{
  "nbformat": 4,
  "nbformat_minor": 0,
  "metadata": {
    "colab": {
      "name": "air_quality_of_CO2.ipynb",
      "version": "0.3.2",
      "provenance": [],
      "collapsed_sections": []
    },
    "kernelspec": {
      "name": "python3",
      "display_name": "Python 3"
    },
    "accelerator": "TPU"
  },
  "cells": [
    {
      "metadata": {
        "id": "J0l-z0JYZEdR",
        "colab_type": "code",
        "colab": {}
      },
      "cell_type": "code",
      "source": [
        "#importing the required libraries\n",
        "import matplotlib.pyplot as plt\n",
        "import numpy as np\n",
        "import pandas as pd\n",
        "%matplotlib inline"
      ],
      "execution_count": 0,
      "outputs": []
    },
    {
      "metadata": {
        "id": "1P5aqK6paJBo",
        "colab_type": "code",
        "colab": {}
      },
      "cell_type": "code",
      "source": [
        "#Reading the excel sheet using pandas\n",
        "a = pd.read_excel('CO2.xls')"
      ],
      "execution_count": 0,
      "outputs": []
    },
    {
      "metadata": {
        "id": "WvI8m1thT51m",
        "colab_type": "code",
        "colab": {
          "base_uri": "https://localhost:8080/",
          "height": 407
        },
        "outputId": "af3cc1fa-7175-4f23-fa16-863bef85d077"
      },
      "cell_type": "code",
      "source": [
        "a"
      ],
      "execution_count": 49,
      "outputs": [
        {
          "output_type": "execute_result",
          "data": {
            "text/html": [
              "<div>\n",
              "<style scoped>\n",
              "    .dataframe tbody tr th:only-of-type {\n",
              "        vertical-align: middle;\n",
              "    }\n",
              "\n",
              "    .dataframe tbody tr th {\n",
              "        vertical-align: top;\n",
              "    }\n",
              "\n",
              "    .dataframe thead th {\n",
              "        text-align: right;\n",
              "    }\n",
              "</style>\n",
              "<table border=\"1\" class=\"dataframe\">\n",
              "  <thead>\n",
              "    <tr style=\"text-align: right;\">\n",
              "      <th></th>\n",
              "      <th>Year</th>\n",
              "      <th>Temperature ( Degree C)</th>\n",
              "      <th>Carbon Dioxide (Parts Per Million)</th>\n",
              "      <th>Emissions from Fossil Fuel Burning (Million Tonnes of Carbon)</th>\n",
              "    </tr>\n",
              "  </thead>\n",
              "  <tbody>\n",
              "    <tr>\n",
              "      <th>0</th>\n",
              "      <td>2000</td>\n",
              "      <td>14.2886</td>\n",
              "      <td>369.40</td>\n",
              "      <td>6750</td>\n",
              "    </tr>\n",
              "    <tr>\n",
              "      <th>1</th>\n",
              "      <td>2001</td>\n",
              "      <td>14.4173</td>\n",
              "      <td>371.08</td>\n",
              "      <td>6916</td>\n",
              "    </tr>\n",
              "    <tr>\n",
              "      <th>2</th>\n",
              "      <td>2002</td>\n",
              "      <td>14.4745</td>\n",
              "      <td>373.17</td>\n",
              "      <td>6981</td>\n",
              "    </tr>\n",
              "    <tr>\n",
              "      <th>3</th>\n",
              "      <td>2003</td>\n",
              "      <td>14.4818</td>\n",
              "      <td>375.80</td>\n",
              "      <td>7397</td>\n",
              "    </tr>\n",
              "    <tr>\n",
              "      <th>4</th>\n",
              "      <td>2004</td>\n",
              "      <td>14.4416</td>\n",
              "      <td>377.50</td>\n",
              "      <td>7782</td>\n",
              "    </tr>\n",
              "    <tr>\n",
              "      <th>5</th>\n",
              "      <td>2005</td>\n",
              "      <td>14.5154</td>\n",
              "      <td>379.78</td>\n",
              "      <td>8086</td>\n",
              "    </tr>\n",
              "    <tr>\n",
              "      <th>6</th>\n",
              "      <td>2006</td>\n",
              "      <td>14.4601</td>\n",
              "      <td>381.86</td>\n",
              "      <td>8350</td>\n",
              "    </tr>\n",
              "    <tr>\n",
              "      <th>7</th>\n",
              "      <td>2007</td>\n",
              "      <td>14.4479</td>\n",
              "      <td>383.72</td>\n",
              "      <td>8543</td>\n",
              "    </tr>\n",
              "    <tr>\n",
              "      <th>8</th>\n",
              "      <td>2008</td>\n",
              "      <td>14.3803</td>\n",
              "      <td>385.57</td>\n",
              "      <td>8749</td>\n",
              "    </tr>\n",
              "    <tr>\n",
              "      <th>9</th>\n",
              "      <td>2009</td>\n",
              "      <td>14.4552</td>\n",
              "      <td>387.36</td>\n",
              "      <td>8627</td>\n",
              "    </tr>\n",
              "    <tr>\n",
              "      <th>10</th>\n",
              "      <td>2010</td>\n",
              "      <td>14.5171</td>\n",
              "      <td>389.78</td>\n",
              "      <td>9139</td>\n",
              "    </tr>\n",
              "  </tbody>\n",
              "</table>\n",
              "</div>"
            ],
            "text/plain": [
              "    Year  Temperature ( Degree C)  Carbon Dioxide (Parts Per Million)  \\\n",
              "0   2000                  14.2886                              369.40   \n",
              "1   2001                  14.4173                              371.08   \n",
              "2   2002                  14.4745                              373.17   \n",
              "3   2003                  14.4818                              375.80   \n",
              "4   2004                  14.4416                              377.50   \n",
              "5   2005                  14.5154                              379.78   \n",
              "6   2006                  14.4601                              381.86   \n",
              "7   2007                  14.4479                              383.72   \n",
              "8   2008                  14.3803                              385.57   \n",
              "9   2009                  14.4552                              387.36   \n",
              "10  2010                  14.5171                              389.78   \n",
              "\n",
              "    Emissions from Fossil Fuel Burning (Million Tonnes of Carbon)  \n",
              "0                                                6750              \n",
              "1                                                6916              \n",
              "2                                                6981              \n",
              "3                                                7397              \n",
              "4                                                7782              \n",
              "5                                                8086              \n",
              "6                                                8350              \n",
              "7                                                8543              \n",
              "8                                                8749              \n",
              "9                                                8627              \n",
              "10                                               9139              "
            ]
          },
          "metadata": {
            "tags": []
          },
          "execution_count": 49
        }
      ]
    },
    {
      "metadata": {
        "id": "gtc8kQQmbAzX",
        "colab_type": "code",
        "colab": {}
      },
      "cell_type": "code",
      "source": [
        "#!pip install scikit-learn==0.19.0"
      ],
      "execution_count": 0,
      "outputs": []
    },
    {
      "metadata": {
        "id": "UekkCrf3UKnO",
        "colab_type": "code",
        "colab": {}
      },
      "cell_type": "code",
      "source": [
        "x=a.iloc[:,:-1].values\n",
        "y=a.iloc[:,3].values"
      ],
      "execution_count": 0,
      "outputs": []
    },
    {
      "metadata": {
        "id": "qt-WT_zCar_H",
        "colab_type": "code",
        "colab": {}
      },
      "cell_type": "code",
      "source": [
        "#Here we are taking train_test_split class from sklearn.cross_validation package\n",
        "from sklearn.cross_validation import train_test_split"
      ],
      "execution_count": 0,
      "outputs": []
    },
    {
      "metadata": {
        "id": "ANglVU6sa8uB",
        "colab_type": "code",
        "colab": {}
      },
      "cell_type": "code",
      "source": [
        "X_train, X_test, y_train, y_test = train_test_split(x, y, test_size=0.2)"
      ],
      "execution_count": 0,
      "outputs": []
    },
    {
      "metadata": {
        "id": "96VQYdIXa80j",
        "colab_type": "code",
        "colab": {}
      },
      "cell_type": "code",
      "source": [
        "#Here we are using LinearRegression Model from sklearn.linear_model package\n",
        "from sklearn.linear_model import LinearRegression"
      ],
      "execution_count": 0,
      "outputs": []
    },
    {
      "metadata": {
        "id": "D7OM192Zb2FX",
        "colab_type": "code",
        "outputId": "154b6cdf-d3c0-4dbb-ecef-e83d556c8d91",
        "colab": {
          "base_uri": "https://localhost:8080/",
          "height": 34
        }
      },
      "cell_type": "code",
      "source": [
        "#Here we are creating a object for the LinearRegression Class\n",
        "regressor = LinearRegression()\n",
        "#Here we are training the model by using fit method\n",
        "regressor.fit(X_train, y_train)"
      ],
      "execution_count": 61,
      "outputs": [
        {
          "output_type": "execute_result",
          "data": {
            "text/plain": [
              "LinearRegression(copy_X=True, fit_intercept=True, n_jobs=1, normalize=False)"
            ]
          },
          "metadata": {
            "tags": []
          },
          "execution_count": 61
        }
      ]
    },
    {
      "metadata": {
        "id": "mupoGxsIjtz3",
        "colab_type": "code",
        "colab": {}
      },
      "cell_type": "code",
      "source": [
        "#here the predicted values are stored in p\n",
        "p=regressor.predict(X_test)"
      ],
      "execution_count": 0,
      "outputs": []
    },
    {
      "metadata": {
        "id": "vDYLSfvkb2IG",
        "colab_type": "code",
        "outputId": "c545507e-df56-488a-fd99-dc9a6bffd10c",
        "colab": {
          "base_uri": "https://localhost:8080/",
          "height": 34
        }
      },
      "cell_type": "code",
      "source": [
        "#Here we are predicting the values of CO based on Other gases.\n",
        "print(\"Predicted values:\", p)"
      ],
      "execution_count": 63,
      "outputs": [
        {
          "output_type": "stream",
          "text": [
            "Predicted values: [8513.09119485 8850.34598904 6907.24366521]\n"
          ],
          "name": "stdout"
        }
      ]
    },
    {
      "metadata": {
        "id": "MI8wouXTb2Nm",
        "colab_type": "code",
        "outputId": "c41bac42-74e7-490a-e6a8-99af89ea5185",
        "colab": {
          "base_uri": "https://localhost:8080/",
          "height": 34
        }
      },
      "cell_type": "code",
      "source": [
        "#Here we are comparing the predicted data and the actual data\n",
        "print(\"R^2 score for liner regression: \", regressor.score(X_test,y_test))"
      ],
      "execution_count": 64,
      "outputs": [
        {
          "output_type": "stream",
          "text": [
            "R^2 score for liner regression:  0.9664181658555224\n"
          ],
          "name": "stdout"
        }
      ]
    }
  ]
}